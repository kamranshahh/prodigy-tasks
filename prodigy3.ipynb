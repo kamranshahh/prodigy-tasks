{
  "nbformat": 4,
  "nbformat_minor": 0,
  "metadata": {
    "colab": {
      "provenance": []
    },
    "kernelspec": {
      "name": "python3",
      "display_name": "Python 3"
    },
    "language_info": {
      "name": "python"
    }
  },
  "cells": [
    {
      "cell_type": "code",
      "execution_count": null,
      "metadata": {
        "colab": {
          "base_uri": "https://localhost:8080/"
        },
        "id": "XX0es5F-pJ-s",
        "outputId": "e8081d51-272c-4ce2-b4ff-dc4a2862c620"
      },
      "outputs": [
        {
          "output_type": "stream",
          "name": "stdout",
          "text": [
            "Downloading data from https://www.cs.toronto.edu/~kriz/cifar-10-python.tar.gz\n",
            "\u001b[1m170498071/170498071\u001b[0m \u001b[32m━━━━━━━━━━━━━━━━━━━━\u001b[0m\u001b[37m\u001b[0m \u001b[1m6s\u001b[0m 0us/step\n"
          ]
        }
      ],
      "source": [
        "# Import necessary libraries\n",
        "import numpy as np\n",
        "import matplotlib.pyplot as plt\n",
        "from sklearn import svm\n",
        "from sklearn.metrics import classification_report, confusion_matrix\n",
        "from sklearn.preprocessing import StandardScaler\n",
        "from sklearn.model_selection import train_test_split\n",
        "from tensorflow.keras.datasets import cifar10\n",
        "\n",
        "# Load the CIFAR-10 dataset\n",
        "(X_train, y_train), (X_test, y_test) = cifar10.load_data()\n",
        "\n",
        "# Combine train and test sets for easier preprocessing\n",
        "X = np.concatenate((X_train, X_test))\n",
        "y = np.concatenate((y_train, y_test)).flatten()\n",
        "\n",
        "# Filter out only the classes for cats (3) and dogs (5)\n",
        "cat_dog_indices = np.where((y == 3) | (y == 5))\n",
        "X = X[cat_dog_indices]\n",
        "y = y[cat_dog_indices]\n",
        "\n",
        "# Update labels: 0 for cats and 1 for dogs\n",
        "y = np.where(y == 3, 0, 1)\n",
        "\n",
        "# Flatten the images from 32x32x3 to 3072 (32*32*3) features\n",
        "X = X.reshape(X.shape[0], -1)\n",
        "\n",
        "# Standardize the data\n",
        "scaler = StandardScaler()\n",
        "X = scaler.fit_transform(X)\n",
        "\n",
        "# Split the data into training and testing sets\n",
        "X_train, X_test, y_train, y_test = train_test_split(X, y, test_size=0.2, random_state=42)\n",
        "\n",
        "# Create the SVM model with a linear kernel\n",
        "model = svm.SVC(kernel='linear')\n",
        "\n",
        "# Train the model on the training data\n",
        "model.fit(X_train, y_train)\n",
        "\n",
        "# Predict on the test data\n",
        "y_pred = model.predict(X_test)\n",
        "\n",
        "# Evaluate the model\n",
        "print(\"Classification Report:\")\n",
        "print(classification_report(y_test, y_pred, target_names=['Cat', 'Dog']))\n",
        "\n",
        "# Confusion matrix\n",
        "conf_matrix = confusion_matrix(y_test, y_pred)\n",
        "print(\"Confusion Matrix:\")\n",
        "print(conf_matrix)\n",
        "\n",
        "# Visualize some predictions\n",
        "plt.figure(figsize=(12, 6))\n",
        "for i in range(8):\n",
        "    # Inverse transform the scaled image data back to original\n",
        "    img = scaler.inverse_transform(X_test[i]).reshape(32, 32, 3)\n",
        "    # Clip the image pixel values to be in valid range [0, 255]\n",
        "    img = np.clip(img, 0, 255).astype('uint8')\n",
        "    plt.subplot(2, 4, i + 1)\n",
        "    plt.imshow(img)\n",
        "    plt.title(f\"Predicted: {'Dog' if y_pred[i] == 1 else 'Cat'}\")\n",
        "    plt.axis('off')\n",
        "plt.tight_layout()\n",
        "plt.show()\n"
      ]
    }
  ]
}